{
 "cells": [
  {
   "cell_type": "markdown",
   "metadata": {},
   "source": [
    "# Book2Vec\n",
    "\n",
    "**Calculate embeddings and create a vectore stores for books 📖**\n",
    "\n",
    "In this notebook we'll use George Orwell's 1984."
   ]
  },
  {
   "cell_type": "markdown",
   "metadata": {},
   "source": [
    "**How to use for other books:**\n",
    "1. Find its PDF\n",
    "2. Run"
   ]
  },
  {
   "cell_type": "markdown",
   "metadata": {},
   "source": [
    "*Notes:*\n",
    "- At the end of this, you can optionally upload your vector store on https://huggingface.co as a dataset so it can be acessed easily."
   ]
  },
  {
   "cell_type": "markdown",
   "metadata": {},
   "source": [
    "## Install stuff we need"
   ]
  },
  {
   "cell_type": "code",
   "execution_count": null,
   "metadata": {},
   "outputs": [],
   "source": [
    "!pip install -qqq langchain InstructorEmbedding sentence_transformers faiss-cpu huggingface_hub pypdf"
   ]
  },
  {
   "cell_type": "code",
   "execution_count": null,
   "metadata": {},
   "outputs": [],
   "source": [
    "import os\n",
    "from pathlib import Path\n",
    "from langchain.embeddings import HuggingFaceInstructEmbeddings\n",
    "from langchain.vectorstores.faiss import FAISS\n",
    "from huggingface_hub import snapshot_download\n",
    "from langchain import PromptTemplate\n",
    "from IPython.display import display, Markdown\n",
    "from langchain.document_loaders import PagedPDFSplitter\n",
    "from langchain.text_splitter import RecursiveCharacterTextSplitter"
   ]
  },
  {
   "cell_type": "markdown",
   "metadata": {},
   "source": [
    "## Download the book"
   ]
  },
  {
   "cell_type": "code",
   "execution_count": null,
   "metadata": {},
   "outputs": [
    {
     "name": "stdout",
     "output_type": "stream",
     "text": [
      "--2023-03-03 10:50:32--  https://ia801300.us.archive.org/28/items/GeorgeOrwells1984/1984.pdf\n",
      "Resolving ia801300.us.archive.org (ia801300.us.archive.org)... 207.241.228.130\n",
      "Connecting to ia801300.us.archive.org (ia801300.us.archive.org)|207.241.228.130|:443... connected.\n",
      "HTTP request sent, awaiting response... 200 OK\n",
      "Length: 1366706 (1.3M) [application/pdf]\n",
      "Saving to: ‘1984.pdf.1’\n",
      "\n",
      "1984.pdf.1          100%[===================>]   1.30M  3.29MB/s    in 0.4s    \n",
      "\n",
      "2023-03-03 10:50:32 (3.29 MB/s) - ‘1984.pdf.1’ saved [1366706/1366706]\n",
      "\n"
     ]
    }
   ],
   "source": [
    "!wget https://ia801300.us.archive.org/28/items/GeorgeOrwells1984/1984.pdf"
   ]
  },
  {
   "cell_type": "markdown",
   "metadata": {},
   "source": [
    "If you're using Googe drive, you can save this (and later, your vector store) there.\n",
    "\n",
    "First give your notebook permission to access Drive, then set the path to save as you normally would."
   ]
  },
  {
   "cell_type": "code",
   "execution_count": null,
   "metadata": {},
   "outputs": [],
   "source": [
    "# from google.colab import drive\n",
    "# drive.mount('/content/drive')"
   ]
  },
  {
   "cell_type": "code",
   "execution_count": null,
   "metadata": {},
   "outputs": [],
   "source": [
    "# !wget https://ia801300.us.archive.org/28/items/GeorgeOrwells1984/1984.pdf -P '/content/drive/MyDrive/projects/talk2book'"
   ]
  },
  {
   "cell_type": "markdown",
   "metadata": {},
   "source": [
    "## Split pages"
   ]
  },
  {
   "cell_type": "code",
   "execution_count": null,
   "metadata": {},
   "outputs": [],
   "source": [
    "book_path = \"1984.pdf\""
   ]
  },
  {
   "cell_type": "code",
   "execution_count": null,
   "metadata": {},
   "outputs": [],
   "source": [
    "loader = PagedPDFSplitter(book_path)\n",
    "pages = loader.load_and_split()"
   ]
  },
  {
   "cell_type": "code",
   "execution_count": null,
   "metadata": {},
   "outputs": [
    {
     "data": {
      "text/plain": [
       "393"
      ]
     },
     "execution_count": null,
     "metadata": {},
     "output_type": "execute_result"
    }
   ],
   "source": [
    "len(pages)"
   ]
  },
  {
   "cell_type": "code",
   "execution_count": null,
   "metadata": {},
   "outputs": [
    {
     "data": {
      "text/plain": [
       "Document(page_content='Download free eBooks of classic literature, books and \\nnovels at Planet eBook. Subscribe to our free eBooks blog \\nand email newsletter.1984\\nBy George Orwell', lookup_str='', metadata={'source': '1984.pdf', 'page': 0}, lookup_index=0)"
      ]
     },
     "execution_count": null,
     "metadata": {},
     "output_type": "execute_result"
    }
   ],
   "source": [
    "pages[0]"
   ]
  },
  {
   "cell_type": "code",
   "execution_count": null,
   "metadata": {},
   "outputs": [
    {
     "data": {
      "text/plain": [
       "{'source': '1984.pdf', 'page': 2}"
      ]
     },
     "execution_count": null,
     "metadata": {},
     "output_type": "execute_result"
    }
   ],
   "source": [
    "pages[2].metadata"
   ]
  },
  {
   "cell_type": "markdown",
   "metadata": {},
   "source": [
    "### Set how text will be truncated for long pages"
   ]
  },
  {
   "cell_type": "code",
   "execution_count": null,
   "metadata": {},
   "outputs": [],
   "source": [
    "text_splitter = RecursiveCharacterTextSplitter(\n",
    "    chunk_size = 800,\n",
    "    chunk_overlap  = 10,\n",
    "    length_function = len,\n",
    "    separators=\"\\n\\n\"\n",
    ")"
   ]
  },
  {
   "cell_type": "markdown",
   "metadata": {},
   "source": [
    "## Download embedding model"
   ]
  },
  {
   "cell_type": "code",
   "execution_count": null,
   "metadata": {},
   "outputs": [
    {
     "name": "stdout",
     "output_type": "stream",
     "text": [
      "load INSTRUCTOR_Transformer\n",
      "max_seq_length  512\n"
     ]
    }
   ],
   "source": [
    "embeddings = HuggingFaceInstructEmbeddings(\n",
    "    embed_instruction=\"Represent the book passage for retrieval: \",\n",
    "    query_instruction=\"Represent the question for retrieving supporting texts from the book passage: \"\n",
    "    )"
   ]
  },
  {
   "cell_type": "markdown",
   "metadata": {},
   "source": [
    "## Create embeddings and save faiss vector store to the path specified in `save_to`"
   ]
  },
  {
   "cell_type": "code",
   "execution_count": null,
   "metadata": {},
   "outputs": [],
   "source": [
    "save_to = \"1984_faiss_custom_embedding\""
   ]
  },
  {
   "cell_type": "code",
   "execution_count": null,
   "metadata": {},
   "outputs": [],
   "source": [
    "n = 0 # progress count\n",
    "print(f\"> Total pages: {len(pages)}\")\n",
    "\n",
    "for page in pages:\n",
    "\n",
    "    # split text\n",
    "    texts = text_splitter.split_text(page.page_content)\n",
    "\n",
    "    # metadata\n",
    "    metadatas = [page.metadata]\n",
    "\n",
    "    # use the same metadata for each chunk of text from the same page\n",
    "    metadatas = metadatas*len(texts)\n",
    "\n",
    "    # create embeddings and add to vector store\n",
    "    if Path(save_to).exists():\n",
    "        update = FAISS.load_local(folder_path=save_to, embeddings=embeddings)\n",
    "        update.add_texts(texts, metadatas=metadatas)\n",
    "        update.save_local(folder_path=save_to)\n",
    "\n",
    "        n+=1\n",
    "        print(f\"{n}/{len(pages)}\")\n",
    "    else:\n",
    "        docsearch = FAISS.from_texts(texts, embedding=embeddings, metadatas=metadatas)\n",
    "        docsearch.save_local(folder_path=save_to)\n",
    "\n",
    "        n+=1\n",
    "        print(f\"{n}/{len(pages)}\")\n",
    "\n",
    "\n",
    "print(\"> DONE\")\n",
    "print(f\"> Saved to: {save_to}\")"
   ]
  },
  {
   "cell_type": "markdown",
   "metadata": {},
   "source": [
    "### Upload your embeddings to Hugging Face\n",
    "\n",
    "1. Create an account on or login to https://huggingface.co\n",
    "2. Create a new *dataset*\n",
    "3. Upload the folder specified in `save_to`\n",
    "\n",
    "Example: https://huggingface.co/datasets/calmgoose/orwell-1984_faiss-instructembeddings"
   ]
  },
  {
   "cell_type": "markdown",
   "metadata": {},
   "source": [
    "## Now let's do a similarity search on what we just created!"
   ]
  },
  {
   "cell_type": "code",
   "execution_count": null,
   "metadata": {},
   "outputs": [],
   "source": [
    "question = \"Who is big brother?\""
   ]
  },
  {
   "cell_type": "code",
   "execution_count": null,
   "metadata": {},
   "outputs": [
    {
     "data": {
      "text/markdown": [
       "Who is big brother?"
      ],
      "text/plain": [
       "<IPython.core.display.Markdown object>"
      ]
     },
     "metadata": {},
     "output_type": "display_data"
    }
   ],
   "source": [
    "display(Markdown(question))"
   ]
  },
  {
   "cell_type": "markdown",
   "metadata": {},
   "source": [
    "### From our local vector store:"
   ]
  },
  {
   "cell_type": "code",
   "execution_count": null,
   "metadata": {},
   "outputs": [],
   "source": [
    "docsearch = FAISS.load_local(folder_path=save_to, embeddings=embeddings)\n",
    "\n",
    "search = docsearch.similarity_search(question, k=4)\n",
    "\n",
    "for item in search:\n",
    "    print(item.page_content)\n",
    "    print(f\"Page: {item.metadata['page']}\")\n",
    "    print(\"---\")"
   ]
  },
  {
   "cell_type": "markdown",
   "metadata": {},
   "source": [
    "### From Hugging Face:"
   ]
  },
  {
   "cell_type": "code",
   "execution_count": null,
   "metadata": {},
   "outputs": [
    {
     "data": {
      "application/vnd.jupyter.widget-view+json": {
       "model_id": "1b4cd3e3d55b46c08b2f36e7124a1b80",
       "version_major": 2,
       "version_minor": 0
      },
      "text/plain": [
       "Fetching 2 files:   0%|          | 0/2 [00:00<?, ?it/s]"
      ]
     },
     "metadata": {},
     "output_type": "display_data"
    },
    {
     "name": "stdout",
     "output_type": "stream",
     "text": [
      "load INSTRUCTOR_Transformer\n",
      "max_seq_length  512\n",
      "Question: Who is big brother?\n",
      "immediately below it. The consciousness of the masses \n",
      "needs only to be influenced in a negative way.\n",
      "Given this background, one could infer, if one did not \n",
      "know it already, the general structure of Oceanic society. At \n",
      "the apex of the pyramid comes Big Brother. Big Brother is in -\n",
      "fallible and all-powerful. Every success, every achievement, \n",
      "every victory, every scientific discovery, all knowledge, all \n",
      "wisdom, all happiness, all virtue, are held to issue directly \n",
      "from his leadership and inspiration. Nobody has ever seen \n",
      "Big Brother. He is a face on the hoardings, a voice on the \n",
      "telescreen. We may be reasonably sure that he will never die, \n",
      "and there is already considerable uncertainty as to when he \n",
      "was born. Big Brother is the guise in which the Party choos -\n",
      "From page: 261\n",
      "---\n",
      "of being spoken. Then the face of Big Brother faded away \n",
      "again, and instead the three slogans of the Party stood out\n",
      "From page: 19\n",
      "---\n",
      "\u00181 Free eBooks at Planet eBook.comin bold capitals:\n",
      "WAR IS PEACE  \n",
      "FREEDOM IS SLAVERY  \n",
      "IGNORANCE IS STRENGTH\n",
      "But the face of Big Brother seemed to persist for sever -\n",
      "al seconds on the screen, as though the impact that it had \n",
      "made on everyone’s eyeballs was too vivid to wear off im -\n",
      "mediately. The little sandy-haired woman had flung herself \n",
      "forward over the back of the chair in front of her. With a \n",
      "tremulous murmur that sounded like ‘My Saviour!’ she ex -\n",
      "tended her arms towards the screen. Then she buried her \n",
      "face in her hands. It was apparent that she was uttering a \n",
      "prayer.\n",
      "At this moment the entire group of people broke into a \n",
      "deep, slow, rhythmical chant of ‘B-B!...B-B!’—over and over \n",
      "again, very slowly, with a long pause between the first ‘B’\n",
      "From page: 20\n",
      "---\n",
      "Winston stood opposite him. O’Brien took Winston’s \n",
      "shoulders between his strong hands and looked at him \n",
      "closely.\n",
      "‘You have had thoughts of deceiving me,’ he said. ‘That \n",
      "was stupid. Stand up straighter. Look me in the face.’\n",
      "He paused, and went on in a gentler tone:\n",
      "‘You are improving. Intellectually there is very little \n",
      "wrong with you. It is only emotionally that you have failed \n",
      "to make progress. Tell me, Winston—and remember, no \n",
      "lies: you know that I am always able to detect a lie—tell me, \n",
      "what are your true feelings towards Big Brother?’\n",
      "‘I hate him.’\n",
      "‘You hate him. Good. Then the time has come for you \n",
      "to take the last step. You must love Big Brother. It is not \n",
      "enough to obey him: you must love him.’\n",
      "From page: 354\n",
      "---\n"
     ]
    }
   ],
   "source": [
    "# download the `vectorstore` folder\n",
    "book=\"1984\"\n",
    "cache_dir=f\"{book}_cache\"\n",
    "vectorstore = snapshot_download(repo_id=\"calmgoose/book-embeddings\",\n",
    "                                repo_type=\"dataset\",\n",
    "                                revision=\"main\",\n",
    "                                allow_patterns=f\"books/{book}/*\",\n",
    "                                cache_dir=cache_dir,\n",
    "                                )\n",
    "\n",
    "# get path to the `vectorstore` folder that you just downloaded\n",
    "# we'll look inside the `cache_dir` for the folder we want\n",
    "target_dir = f\"books/{book}\"\n",
    "\n",
    "# Walk through the directory tree recursively\n",
    "for root, dirs, files in os.walk(cache_dir):\n",
    "    # Check if the target directory is in the list of directories\n",
    "    if target_dir in dirs:\n",
    "        # Get the full path of the target directory\n",
    "        target_path = os.path.join(root, target_dir)\n",
    "\n",
    "# load embeddings\n",
    "# this is what was used to create embeddings for the book\n",
    "embeddings = HuggingFaceInstructEmbeddings(\n",
    "    embed_instruction=\"Represent the book passage for retrieval: \",\n",
    "    query_instruction=\"Represent the question for retrieving supporting texts from the book passage: \"\n",
    "    )\n",
    "\n",
    "# load vector store to use with langchain\n",
    "docsearch = FAISS.load_local(folder_path=target_path, embeddings=embeddings)\n",
    "\n",
    "# similarity search\n",
    "search = docsearch.similarity_search(question, k=4)\n",
    "\n",
    "print(f\"Question: {question}\")\n",
    "\n",
    "for item in search:\n",
    "    print(item.page_content)\n",
    "    print(f\"From page: {item.metadata['page']}\")\n",
    "    print(\"---\")"
   ]
  },
  {
   "cell_type": "code",
   "execution_count": null,
   "metadata": {},
   "outputs": [],
   "source": []
  }
 ],
 "metadata": {
  "kernelspec": {
   "display_name": "python3",
   "language": "python",
   "name": "python3"
  },
  "widgets": {
   "application/vnd.jupyter.widget-state+json": {
    "033c63a0b23c48509401cd1e3fa5019a": {
     "model_module": "@jupyter-widgets/controls",
     "model_module_version": "1.5.0",
     "model_name": "DescriptionStyleModel",
     "state": {
      "_model_module": "@jupyter-widgets/controls",
      "_model_module_version": "1.5.0",
      "_model_name": "DescriptionStyleModel",
      "_view_count": null,
      "_view_module": "@jupyter-widgets/base",
      "_view_module_version": "1.2.0",
      "_view_name": "StyleView",
      "description_width": ""
     }
    },
    "1756d7c6f0114ffd9ff325d5fa540e80": {
     "model_module": "@jupyter-widgets/base",
     "model_module_version": "1.2.0",
     "model_name": "LayoutModel",
     "state": {
      "_model_module": "@jupyter-widgets/base",
      "_model_module_version": "1.2.0",
      "_model_name": "LayoutModel",
      "_view_count": null,
      "_view_module": "@jupyter-widgets/base",
      "_view_module_version": "1.2.0",
      "_view_name": "LayoutView",
      "align_content": null,
      "align_items": null,
      "align_self": null,
      "border": null,
      "bottom": null,
      "display": null,
      "flex": null,
      "flex_flow": null,
      "grid_area": null,
      "grid_auto_columns": null,
      "grid_auto_flow": null,
      "grid_auto_rows": null,
      "grid_column": null,
      "grid_gap": null,
      "grid_row": null,
      "grid_template_areas": null,
      "grid_template_columns": null,
      "grid_template_rows": null,
      "height": null,
      "justify_content": null,
      "justify_items": null,
      "left": null,
      "margin": null,
      "max_height": null,
      "max_width": null,
      "min_height": null,
      "min_width": null,
      "object_fit": null,
      "object_position": null,
      "order": null,
      "overflow": null,
      "overflow_x": null,
      "overflow_y": null,
      "padding": null,
      "right": null,
      "top": null,
      "visibility": null,
      "width": null
     }
    },
    "1b4cd3e3d55b46c08b2f36e7124a1b80": {
     "model_module": "@jupyter-widgets/controls",
     "model_module_version": "1.5.0",
     "model_name": "HBoxModel",
     "state": {
      "_dom_classes": [],
      "_model_module": "@jupyter-widgets/controls",
      "_model_module_version": "1.5.0",
      "_model_name": "HBoxModel",
      "_view_count": null,
      "_view_module": "@jupyter-widgets/controls",
      "_view_module_version": "1.5.0",
      "_view_name": "HBoxView",
      "box_style": "",
      "children": [
       "IPY_MODEL_76caa9a2c1ab44519cfb38757e8ca51b",
       "IPY_MODEL_6bb6b212abfe40ddb6ba6ec73195a6a7",
       "IPY_MODEL_67e0878b66dd4e039e8d0b62f49bd3bb"
      ],
      "layout": "IPY_MODEL_60bd1572cc224f22bd7002a62a3bcfe2"
     }
    },
    "4c301ee2a2e9436b831d4a507fd2a310": {
     "model_module": "@jupyter-widgets/base",
     "model_module_version": "1.2.0",
     "model_name": "LayoutModel",
     "state": {
      "_model_module": "@jupyter-widgets/base",
      "_model_module_version": "1.2.0",
      "_model_name": "LayoutModel",
      "_view_count": null,
      "_view_module": "@jupyter-widgets/base",
      "_view_module_version": "1.2.0",
      "_view_name": "LayoutView",
      "align_content": null,
      "align_items": null,
      "align_self": null,
      "border": null,
      "bottom": null,
      "display": null,
      "flex": null,
      "flex_flow": null,
      "grid_area": null,
      "grid_auto_columns": null,
      "grid_auto_flow": null,
      "grid_auto_rows": null,
      "grid_column": null,
      "grid_gap": null,
      "grid_row": null,
      "grid_template_areas": null,
      "grid_template_columns": null,
      "grid_template_rows": null,
      "height": null,
      "justify_content": null,
      "justify_items": null,
      "left": null,
      "margin": null,
      "max_height": null,
      "max_width": null,
      "min_height": null,
      "min_width": null,
      "object_fit": null,
      "object_position": null,
      "order": null,
      "overflow": null,
      "overflow_x": null,
      "overflow_y": null,
      "padding": null,
      "right": null,
      "top": null,
      "visibility": null,
      "width": null
     }
    },
    "60bd1572cc224f22bd7002a62a3bcfe2": {
     "model_module": "@jupyter-widgets/base",
     "model_module_version": "1.2.0",
     "model_name": "LayoutModel",
     "state": {
      "_model_module": "@jupyter-widgets/base",
      "_model_module_version": "1.2.0",
      "_model_name": "LayoutModel",
      "_view_count": null,
      "_view_module": "@jupyter-widgets/base",
      "_view_module_version": "1.2.0",
      "_view_name": "LayoutView",
      "align_content": null,
      "align_items": null,
      "align_self": null,
      "border": null,
      "bottom": null,
      "display": null,
      "flex": null,
      "flex_flow": null,
      "grid_area": null,
      "grid_auto_columns": null,
      "grid_auto_flow": null,
      "grid_auto_rows": null,
      "grid_column": null,
      "grid_gap": null,
      "grid_row": null,
      "grid_template_areas": null,
      "grid_template_columns": null,
      "grid_template_rows": null,
      "height": null,
      "justify_content": null,
      "justify_items": null,
      "left": null,
      "margin": null,
      "max_height": null,
      "max_width": null,
      "min_height": null,
      "min_width": null,
      "object_fit": null,
      "object_position": null,
      "order": null,
      "overflow": null,
      "overflow_x": null,
      "overflow_y": null,
      "padding": null,
      "right": null,
      "top": null,
      "visibility": null,
      "width": null
     }
    },
    "67e0878b66dd4e039e8d0b62f49bd3bb": {
     "model_module": "@jupyter-widgets/controls",
     "model_module_version": "1.5.0",
     "model_name": "HTMLModel",
     "state": {
      "_dom_classes": [],
      "_model_module": "@jupyter-widgets/controls",
      "_model_module_version": "1.5.0",
      "_model_name": "HTMLModel",
      "_view_count": null,
      "_view_module": "@jupyter-widgets/controls",
      "_view_module_version": "1.5.0",
      "_view_name": "HTMLView",
      "description": "",
      "description_tooltip": null,
      "layout": "IPY_MODEL_4c301ee2a2e9436b831d4a507fd2a310",
      "placeholder": "​",
      "style": "IPY_MODEL_bfb68038215949adb9f64e8c8ea3e440",
      "value": " 2/2 [00:00&lt;00:00, 64.88it/s]"
     }
    },
    "6bb6b212abfe40ddb6ba6ec73195a6a7": {
     "model_module": "@jupyter-widgets/controls",
     "model_module_version": "1.5.0",
     "model_name": "FloatProgressModel",
     "state": {
      "_dom_classes": [],
      "_model_module": "@jupyter-widgets/controls",
      "_model_module_version": "1.5.0",
      "_model_name": "FloatProgressModel",
      "_view_count": null,
      "_view_module": "@jupyter-widgets/controls",
      "_view_module_version": "1.5.0",
      "_view_name": "ProgressView",
      "bar_style": "success",
      "description": "",
      "description_tooltip": null,
      "layout": "IPY_MODEL_1756d7c6f0114ffd9ff325d5fa540e80",
      "max": 2,
      "min": 0,
      "orientation": "horizontal",
      "style": "IPY_MODEL_d8cb51a1d7564d8ca78f122d4ea91c12",
      "value": 2
     }
    },
    "76caa9a2c1ab44519cfb38757e8ca51b": {
     "model_module": "@jupyter-widgets/controls",
     "model_module_version": "1.5.0",
     "model_name": "HTMLModel",
     "state": {
      "_dom_classes": [],
      "_model_module": "@jupyter-widgets/controls",
      "_model_module_version": "1.5.0",
      "_model_name": "HTMLModel",
      "_view_count": null,
      "_view_module": "@jupyter-widgets/controls",
      "_view_module_version": "1.5.0",
      "_view_name": "HTMLView",
      "description": "",
      "description_tooltip": null,
      "layout": "IPY_MODEL_c83c6d9619204467b085d4bdac4be575",
      "placeholder": "​",
      "style": "IPY_MODEL_033c63a0b23c48509401cd1e3fa5019a",
      "value": "Fetching 2 files: 100%"
     }
    },
    "bfb68038215949adb9f64e8c8ea3e440": {
     "model_module": "@jupyter-widgets/controls",
     "model_module_version": "1.5.0",
     "model_name": "DescriptionStyleModel",
     "state": {
      "_model_module": "@jupyter-widgets/controls",
      "_model_module_version": "1.5.0",
      "_model_name": "DescriptionStyleModel",
      "_view_count": null,
      "_view_module": "@jupyter-widgets/base",
      "_view_module_version": "1.2.0",
      "_view_name": "StyleView",
      "description_width": ""
     }
    },
    "c83c6d9619204467b085d4bdac4be575": {
     "model_module": "@jupyter-widgets/base",
     "model_module_version": "1.2.0",
     "model_name": "LayoutModel",
     "state": {
      "_model_module": "@jupyter-widgets/base",
      "_model_module_version": "1.2.0",
      "_model_name": "LayoutModel",
      "_view_count": null,
      "_view_module": "@jupyter-widgets/base",
      "_view_module_version": "1.2.0",
      "_view_name": "LayoutView",
      "align_content": null,
      "align_items": null,
      "align_self": null,
      "border": null,
      "bottom": null,
      "display": null,
      "flex": null,
      "flex_flow": null,
      "grid_area": null,
      "grid_auto_columns": null,
      "grid_auto_flow": null,
      "grid_auto_rows": null,
      "grid_column": null,
      "grid_gap": null,
      "grid_row": null,
      "grid_template_areas": null,
      "grid_template_columns": null,
      "grid_template_rows": null,
      "height": null,
      "justify_content": null,
      "justify_items": null,
      "left": null,
      "margin": null,
      "max_height": null,
      "max_width": null,
      "min_height": null,
      "min_width": null,
      "object_fit": null,
      "object_position": null,
      "order": null,
      "overflow": null,
      "overflow_x": null,
      "overflow_y": null,
      "padding": null,
      "right": null,
      "top": null,
      "visibility": null,
      "width": null
     }
    },
    "d8cb51a1d7564d8ca78f122d4ea91c12": {
     "model_module": "@jupyter-widgets/controls",
     "model_module_version": "1.5.0",
     "model_name": "ProgressStyleModel",
     "state": {
      "_model_module": "@jupyter-widgets/controls",
      "_model_module_version": "1.5.0",
      "_model_name": "ProgressStyleModel",
      "_view_count": null,
      "_view_module": "@jupyter-widgets/base",
      "_view_module_version": "1.2.0",
      "_view_name": "StyleView",
      "bar_color": null,
      "description_width": ""
     }
    }
   }
  }
 },
 "nbformat": 4,
 "nbformat_minor": 4
}
